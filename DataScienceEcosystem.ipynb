{
  "metadata": {
    "kernelspec": {
      "name": "python",
      "display_name": "Python (Pyodide)",
      "language": "python"
    },
    "language_info": {
      "codemirror_mode": {
        "name": "python",
        "version": 3
      },
      "file_extension": ".py",
      "mimetype": "text/x-python",
      "name": "python",
      "nbconvert_exporter": "python",
      "pygments_lexer": "ipython3",
      "version": "3.8"
    }
  },
  "nbformat_minor": 5,
  "nbformat": 4,
  "cells": [
    {
      "id": "2a3bc1a3-5cfe-434c-91a6-35e69dfb07f6",
      "cell_type": "markdown",
      "source": "# Data Science Tools and Ecosystem",
      "metadata": {}
    },
    {
      "id": "b58944f1-4f03-4e3a-9bed-921aa3d8206a",
      "cell_type": "markdown",
      "source": "In this notebook, Data Science Tools and Ecosystem are summarized.",
      "metadata": {}
    },
    {
      "id": "8bb3f8ba-11a2-46fe-be5f-cc795e8ebfb7",
      "cell_type": "markdown",
      "source": "Some of the popular languages that Data Scientists use are:\n1. R\n2. Python\n3. C#",
      "metadata": {}
    },
    {
      "id": "bb1b276f-2a45-42c9-81be-f10607fdc9a9",
      "cell_type": "markdown",
      "source": "Some of the commonly used libraries used by Data Scientists include:\n1. numpy\n2. pandas\n3. matplotlib",
      "metadata": {}
    },
    {
      "id": "7f94f527-a4f5-4431-8eba-fbf75ec98505",
      "cell_type": "markdown",
      "source": "# Data Science Tools",
      "metadata": {}
    },
    {
      "id": "d7bbc681-0c8c-4b9b-a3b2-0ed0258a7cb4",
      "cell_type": "markdown",
      "source": "### Below are a few examples of evaluating arithmetic expressions in Python.",
      "metadata": {}
    },
    {
      "id": "30ac610b-8bb4-4afb-b6d8-dba3e1623f20",
      "cell_type": "code",
      "source": "(3*4)+5",
      "metadata": {
        "trusted": true
      },
      "outputs": [
        {
          "execution_count": 1,
          "output_type": "execute_result",
          "data": {
            "text/plain": "17"
          },
          "metadata": {}
        }
      ],
      "execution_count": 1
    },
    {
      "id": "f1cf52a4-e3d5-423a-91bb-abf4a50498c7",
      "cell_type": "markdown",
      "source": "This a simple arithmetic expression to mutiply then add integers",
      "metadata": {}
    },
    {
      "id": "75acbedd-c59d-4e96-b7c3-6eaef2b185f1",
      "cell_type": "code",
      "source": "a = 200/6\nprint(a)",
      "metadata": {
        "trusted": true
      },
      "outputs": [
        {
          "name": "stdout",
          "output_type": "stream",
          "text": "33.333333333333336\n"
        }
      ],
      "execution_count": 8
    },
    {
      "id": "cd872e86-e79d-4798-9539-c340fb138135",
      "cell_type": "markdown",
      "source": "This will convert 200 minutes to hours by diving by 60",
      "metadata": {}
    },
    {
      "id": "78ccc06e-6e08-4ce4-a517-0c9621cc898a",
      "cell_type": "markdown",
      "source": "# Objectives:",
      "metadata": {}
    },
    {
      "id": "25a5ecbb-16cf-4b35-a4b6-daddea96055c",
      "cell_type": "markdown",
      "source": "List popular languages for Data Science:\n*R\n*Julia\n*Matlab\n*SQL\n*Scala",
      "metadata": {}
    },
    {
      "id": "3069b68d-386f-409c-925e-eebb056d991e",
      "cell_type": "markdown",
      "source": "## Author",
      "metadata": {}
    },
    {
      "id": "0ab175dc-fa98-4516-8d22-4a0cdcf7cfe6",
      "cell_type": "markdown",
      "source": "A E",
      "metadata": {}
    }
  ]
}