# Data Science Tools and Ecosystem
In this notebook, Data Science Tools and Ecosystem are summarized.

Some of the popular languages that Data Scientists use are:
1. R
2. Python
3. C#

Some of the commonly used libraries used by Data Scientists include:
1. numpy
2. pandas
3. matplotlib

# Data Science Tools
### Below are a few examples of evaluating arithmetic expressions in Python.

(3*4)+5
This a simple arithmetic expression to mutiply then add integers.

a = 200/6
print(a)

This will convert 200 minutes to hours by diving by 60

# Objectives:
List popular languages for Data Science:
*R
*Julia
*Matlab
*SQL
*Scala

## Author
A E
